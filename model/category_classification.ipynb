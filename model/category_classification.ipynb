{
 "cells": [
  {
   "cell_type": "code",
   "execution_count": 3,
   "metadata": {},
   "outputs": [
    {
     "name": "stdout",
     "output_type": "stream",
     "text": [
      "C:\\Users\\misse\\.cache\\kagglehub\\datasets\\rmisra\\news-category-dataset\\versions\\3\n"
     ]
    }
   ],
   "source": [
    "import kagglehub\n",
    "import os\n",
    "\n",
    "path = kagglehub.dataset_download(\"rmisra/news-category-dataset\")\n",
    "print(path)"
   ]
  },
  {
   "cell_type": "code",
   "execution_count": 4,
   "metadata": {},
   "outputs": [],
   "source": [
    "import pandas as pd\n",
    "import json\n",
    "from sklearn.preprocessing import LabelEncoder\n",
    "from sklearn.model_selection import train_test_split\n",
    "from sklearn.feature_extraction.text import TfidfVectorizer\n",
    "from sklearn.linear_model import LogisticRegression\n",
    "from sklearn.metrics import classification_report"
   ]
  },
  {
   "cell_type": "code",
   "execution_count": 5,
   "metadata": {},
   "outputs": [],
   "source": [
    "file_path = \"../data/News_Category_Dataset_v3.json\"\n",
    "\n",
    "with open(file_path, \"r\") as file:\n",
    "    data = [json.loads(line.strip()) for line in file]\n",
    "\n",
    "df = pd.DataFrame(data)\n",
    "f = df[[\"headline\", \"category\"]]"
   ]
  },
  {
   "cell_type": "code",
   "execution_count": 6,
   "metadata": {},
   "outputs": [
    {
     "name": "stdout",
     "output_type": "stream",
     "text": [
      "                                                 link  \\\n",
      "0   https://www.huffpost.com/entry/covid-boosters-...   \n",
      "1   https://www.huffpost.com/entry/american-airlin...   \n",
      "2   https://www.huffpost.com/entry/funniest-tweets...   \n",
      "3   https://www.huffpost.com/entry/funniest-parent...   \n",
      "4   https://www.huffpost.com/entry/amy-cooper-lose...   \n",
      "5   https://www.huffpost.com/entry/belk-worker-fou...   \n",
      "6   https://www.huffpost.com/entry/reporter-gets-a...   \n",
      "7   https://www.huffpost.com/entry/puerto-rico-wat...   \n",
      "8   https://www.huffpost.com/entry/mija-documentar...   \n",
      "9   https://www.huffpost.com/entry/biden-un-russia...   \n",
      "10  https://www.huffpost.com/entry/bc-soc-wcup-cap...   \n",
      "11  https://www.huffpost.com/entry/man-sets-fire-p...   \n",
      "12  https://www.huffpost.com/entry/fiona-threatens...   \n",
      "13  https://www.huffpost.com/entry/twitch-streamer...   \n",
      "14  https://www.huffpost.com/entry/virginia-thomas...   \n",
      "\n",
      "                                             headline       category  \\\n",
      "0   Over 4 Million Americans Roll Up Sleeves For O...       Politics   \n",
      "1   American Airlines Flyer Charged, Banned For Li...       Politics   \n",
      "2   23 Of The Funniest Tweets About Cats And Dogs ...  Entertainment   \n",
      "3   The Funniest Tweets From Parents This Week (Se...          Other   \n",
      "4   Woman Who Called Cops On Black Bird-Watcher Lo...       Politics   \n",
      "5   Cleaner Was Dead In Belk Bathroom For 4 Days B...       Politics   \n",
      "6   Reporter Gets Adorable Surprise From Her Boyfr...       Politics   \n",
      "7   Puerto Ricans Desperate For Water After Hurric...       Politics   \n",
      "8   How A New Documentary Captures The Complexity ...  Entertainment   \n",
      "9   Biden At UN To Call Russian War An Affront To ...       Politics   \n",
      "10  World Cup Captains Want To Wear Rainbow Armban...       Politics   \n",
      "11  Man Sets Himself On Fire In Apparent Protest O...       Politics   \n",
      "12  Fiona Threatens To Become Category 4 Storm Hea...       Politics   \n",
      "13  Twitch Bans Gambling Sites After Streamer Scam...          Other   \n",
      "14  Virginia Thomas Agrees To Interview With Jan. ...       Politics   \n",
      "\n",
      "                                    short_description  \\\n",
      "0   Health experts said it is too early to predict...   \n",
      "1   He was subdued by passengers and crew when he ...   \n",
      "2   \"Until you have a dog you don't understand wha...   \n",
      "3   \"Accidentally put grown-up toothpaste on my to...   \n",
      "4   Amy Cooper accused investment firm Franklin Te...   \n",
      "5   The 63-year-old woman was seen working at the ...   \n",
      "6   \"Who's that behind you?\" an anchor for New Yor...   \n",
      "7   More than half a million people remained witho...   \n",
      "8   In \"Mija,\" director Isabel Castro combined mus...   \n",
      "9   White House officials say the crux of the pres...   \n",
      "10  FIFA has come under pressure from several Euro...   \n",
      "11  The incident underscores a growing wave of pro...   \n",
      "12  Hurricane Fiona lashed the Turks and Caicos Is...   \n",
      "13  One man's claims that he scammed people on the...   \n",
      "14  Conservative activist Virginia Thomas, the wif...   \n",
      "\n",
      "                                    authors        date  \n",
      "0                      Carla K. Johnson, AP  2022-09-23  \n",
      "1                            Mary Papenfuss  2022-09-23  \n",
      "2                             Elyse Wanshel  2022-09-23  \n",
      "3                          Caroline Bologna  2022-09-23  \n",
      "4                            Nina Golgowski  2022-09-22  \n",
      "5                                            2022-09-22  \n",
      "6                             Elyse Wanshel  2022-09-22  \n",
      "7                           DÁNICA COTO, AP  2022-09-22  \n",
      "8                               Marina Fang  2022-09-22  \n",
      "9                         Aamer Madhani, AP  2022-09-21  \n",
      "10                        GRAHAM DUNBAR, AP  2022-09-21  \n",
      "11                       Mari Yamaguchi, AP  2022-09-21  \n",
      "12                          Dánica Coto, AP  2022-09-21  \n",
      "13                             Ben Blanchet  2022-09-21  \n",
      "14  Eric Tucker and Mary Clare Jalonick, AP  2022-09-21  \n"
     ]
    }
   ],
   "source": [
    "category_map = {\n",
    "    \"SCIENCE\": \"Science\", \"HEALTHY LIVING\": \"Science\", \"WELLNESS\": \"Science\", \n",
    "    \"ENVIRONMENT\": \"Science\", \"GREEN\": \"Science\", \"FOOD & DRINK\": \"Science\", \n",
    "    \"HEALTH\": \"Science\", \"POLITICS\": \"Politics\", \"WORLD NEWS\": \"Politics\", \"U.S. NEWS\": \"Politics\", \n",
    "    \"BUSINESS\": \"Politics\", \"CRIME\": \"Politics\", \"RELIGION\": \"Politics\", \"IMPACT\": \"Politics\", \n",
    "    \"BLACK VOICES\": \"Politics\", \"LATINO VOICES\": \"Politics\", \"ENTERTAINMENT\": \"Entertainment\", \n",
    "    \"COMEDY\": \"Entertainment\", \"STYLE & BEAUTY\": \"Entertainment\", \"CULTURE & ARTS\": \"Entertainment\", \n",
    "    \"MEDIA\": \"Entertainment\", \"ARTS & CULTURE\": \"Entertainment\", \"STYLE\": \"Entertainment\", \"ARTS\": \"Entertainment\"\n",
    "}\n",
    "df[\"category\"] = df[\"category\"].map(category_map).fillna(\"Other\")\n",
    "print(df.head(n=15))"
   ]
  },
  {
   "cell_type": "code",
   "execution_count": 7,
   "metadata": {},
   "outputs": [],
   "source": [
    "label_encoder = LabelEncoder()\n",
    "df[\"category\"] = label_encoder.fit_transform(df[\"category\"])"
   ]
  },
  {
   "cell_type": "code",
   "execution_count": 8,
   "metadata": {},
   "outputs": [],
   "source": [
    "tfidf = TfidfVectorizer(stop_words=\"english\", max_features=5000)\n",
    "X = tfidf.fit_transform(df[\"headline\"])\n",
    "y = df[\"category\"]"
   ]
  },
  {
   "cell_type": "code",
   "execution_count": 9,
   "metadata": {},
   "outputs": [],
   "source": [
    "X_train, X_test, y_train, y_test = train_test_split(X, y, test_size=0.2, random_state=42)"
   ]
  },
  {
   "cell_type": "code",
   "execution_count": 10,
   "metadata": {},
   "outputs": [
    {
     "data": {
      "text/html": [
       "<style>#sk-container-id-1 {color: black;background-color: white;}#sk-container-id-1 pre{padding: 0;}#sk-container-id-1 div.sk-toggleable {background-color: white;}#sk-container-id-1 label.sk-toggleable__label {cursor: pointer;display: block;width: 100%;margin-bottom: 0;padding: 0.3em;box-sizing: border-box;text-align: center;}#sk-container-id-1 label.sk-toggleable__label-arrow:before {content: \"▸\";float: left;margin-right: 0.25em;color: #696969;}#sk-container-id-1 label.sk-toggleable__label-arrow:hover:before {color: black;}#sk-container-id-1 div.sk-estimator:hover label.sk-toggleable__label-arrow:before {color: black;}#sk-container-id-1 div.sk-toggleable__content {max-height: 0;max-width: 0;overflow: hidden;text-align: left;background-color: #f0f8ff;}#sk-container-id-1 div.sk-toggleable__content pre {margin: 0.2em;color: black;border-radius: 0.25em;background-color: #f0f8ff;}#sk-container-id-1 input.sk-toggleable__control:checked~div.sk-toggleable__content {max-height: 200px;max-width: 100%;overflow: auto;}#sk-container-id-1 input.sk-toggleable__control:checked~label.sk-toggleable__label-arrow:before {content: \"▾\";}#sk-container-id-1 div.sk-estimator input.sk-toggleable__control:checked~label.sk-toggleable__label {background-color: #d4ebff;}#sk-container-id-1 div.sk-label input.sk-toggleable__control:checked~label.sk-toggleable__label {background-color: #d4ebff;}#sk-container-id-1 input.sk-hidden--visually {border: 0;clip: rect(1px 1px 1px 1px);clip: rect(1px, 1px, 1px, 1px);height: 1px;margin: -1px;overflow: hidden;padding: 0;position: absolute;width: 1px;}#sk-container-id-1 div.sk-estimator {font-family: monospace;background-color: #f0f8ff;border: 1px dotted black;border-radius: 0.25em;box-sizing: border-box;margin-bottom: 0.5em;}#sk-container-id-1 div.sk-estimator:hover {background-color: #d4ebff;}#sk-container-id-1 div.sk-parallel-item::after {content: \"\";width: 100%;border-bottom: 1px solid gray;flex-grow: 1;}#sk-container-id-1 div.sk-label:hover label.sk-toggleable__label {background-color: #d4ebff;}#sk-container-id-1 div.sk-serial::before {content: \"\";position: absolute;border-left: 1px solid gray;box-sizing: border-box;top: 0;bottom: 0;left: 50%;z-index: 0;}#sk-container-id-1 div.sk-serial {display: flex;flex-direction: column;align-items: center;background-color: white;padding-right: 0.2em;padding-left: 0.2em;position: relative;}#sk-container-id-1 div.sk-item {position: relative;z-index: 1;}#sk-container-id-1 div.sk-parallel {display: flex;align-items: stretch;justify-content: center;background-color: white;position: relative;}#sk-container-id-1 div.sk-item::before, #sk-container-id-1 div.sk-parallel-item::before {content: \"\";position: absolute;border-left: 1px solid gray;box-sizing: border-box;top: 0;bottom: 0;left: 50%;z-index: -1;}#sk-container-id-1 div.sk-parallel-item {display: flex;flex-direction: column;z-index: 1;position: relative;background-color: white;}#sk-container-id-1 div.sk-parallel-item:first-child::after {align-self: flex-end;width: 50%;}#sk-container-id-1 div.sk-parallel-item:last-child::after {align-self: flex-start;width: 50%;}#sk-container-id-1 div.sk-parallel-item:only-child::after {width: 0;}#sk-container-id-1 div.sk-dashed-wrapped {border: 1px dashed gray;margin: 0 0.4em 0.5em 0.4em;box-sizing: border-box;padding-bottom: 0.4em;background-color: white;}#sk-container-id-1 div.sk-label label {font-family: monospace;font-weight: bold;display: inline-block;line-height: 1.2em;}#sk-container-id-1 div.sk-label-container {text-align: center;}#sk-container-id-1 div.sk-container {/* jupyter's `normalize.less` sets `[hidden] { display: none; }` but bootstrap.min.css set `[hidden] { display: none !important; }` so we also need the `!important` here to be able to override the default hidden behavior on the sphinx rendered scikit-learn.org. See: https://github.com/scikit-learn/scikit-learn/issues/21755 */display: inline-block !important;position: relative;}#sk-container-id-1 div.sk-text-repr-fallback {display: none;}</style><div id=\"sk-container-id-1\" class=\"sk-top-container\"><div class=\"sk-text-repr-fallback\"><pre>LogisticRegression(max_iter=3000)</pre><b>In a Jupyter environment, please rerun this cell to show the HTML representation or trust the notebook. <br />On GitHub, the HTML representation is unable to render, please try loading this page with nbviewer.org.</b></div><div class=\"sk-container\" hidden><div class=\"sk-item\"><div class=\"sk-estimator sk-toggleable\"><input class=\"sk-toggleable__control sk-hidden--visually\" id=\"sk-estimator-id-1\" type=\"checkbox\" checked><label for=\"sk-estimator-id-1\" class=\"sk-toggleable__label sk-toggleable__label-arrow\">LogisticRegression</label><div class=\"sk-toggleable__content\"><pre>LogisticRegression(max_iter=3000)</pre></div></div></div></div></div>"
      ],
      "text/plain": [
       "LogisticRegression(max_iter=3000)"
      ]
     },
     "execution_count": 10,
     "metadata": {},
     "output_type": "execute_result"
    }
   ],
   "source": [
    "model = LogisticRegression(max_iter=3000)\n",
    "model.fit(X_train, y_train)\n"
   ]
  },
  {
   "cell_type": "code",
   "execution_count": 11,
   "metadata": {},
   "outputs": [],
   "source": [
    "y_pred = model.predict(X_test)"
   ]
  },
  {
   "cell_type": "code",
   "execution_count": 12,
   "metadata": {},
   "outputs": [
    {
     "name": "stdout",
     "output_type": "stream",
     "text": [
      "               precision    recall  f1-score   support\n",
      "\n",
      "Entertainment       0.74      0.67      0.71      8257\n",
      "        Other       0.66      0.72      0.69     13788\n",
      "     Politics       0.74      0.74      0.74     12348\n",
      "      Science       0.70      0.66      0.68      7513\n",
      "\n",
      "     accuracy                           0.70     41906\n",
      "    macro avg       0.71      0.70      0.70     41906\n",
      " weighted avg       0.71      0.70      0.70     41906\n",
      "\n"
     ]
    }
   ],
   "source": [
    "y_test_labels = label_encoder.inverse_transform(y_test)\n",
    "y_pred_labels = label_encoder.inverse_transform(y_pred)\n",
    "print(classification_report(y_test_labels, y_pred_labels))\n",
    "\n",
    "# fuck it good enough"
   ]
  },
  {
   "cell_type": "code",
   "execution_count": 16,
   "metadata": {},
   "outputs": [
    {
     "data": {
      "text/plain": [
       "['label_encoder.pkl']"
      ]
     },
     "execution_count": 16,
     "metadata": {},
     "output_type": "execute_result"
    }
   ],
   "source": [
    "import joblib\n",
    "\n",
    "joblib.dump(model, \"news_category_model.pkl\")\n",
    "joblib.dump(tfidf, \"vectorizer.pkl\")\n",
    "joblib.dump(label_encoder, \"label_encoder.pkl\")"
   ]
  },
  {
   "cell_type": "code",
   "execution_count": null,
   "metadata": {},
   "outputs": [
    {
     "name": "stdout",
     "output_type": "stream",
     "text": [
      "['Science' 'Politics']\n"
     ]
    }
   ],
   "source": [
    "def load_model_and_vectorizer():\n",
    "    \n",
    "\n",
    "    model = joblib.load(\"news_category_model.pkl\")\n",
    "    vectorizer = joblib.load(\"vectorizer.pkl\")\n",
    "    label_encoder = joblib.load(\"label_encoder.pkl\")\n",
    "    return model, vectorizer, label_encoder\n",
    "\n",
    "def predict_categories(headlines):\n",
    "    model, vectorizer, label_encoder = load_model_and_vectorizer()\n",
    "    X_new = vectorizer.transform(headlines)\n",
    "    predictions = model.predict(X_new)\n",
    "    predicted_labels = label_encoder.inverse_transform(predictions)\n",
    "    return predicted_labels"
   ]
  }
 ],
 "metadata": {
  "kernelspec": {
   "display_name": "base",
   "language": "python",
   "name": "python3"
  },
  "language_info": {
   "codemirror_mode": {
    "name": "ipython",
    "version": 3
   },
   "file_extension": ".py",
   "mimetype": "text/x-python",
   "name": "python",
   "nbconvert_exporter": "python",
   "pygments_lexer": "ipython3",
   "version": "3.11.7"
  }
 },
 "nbformat": 4,
 "nbformat_minor": 2
}
